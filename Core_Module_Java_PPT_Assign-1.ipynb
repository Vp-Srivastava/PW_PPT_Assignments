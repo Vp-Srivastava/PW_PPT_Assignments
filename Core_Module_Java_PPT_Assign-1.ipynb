{
 "cells": [
  {
   "cell_type": "markdown",
   "id": "8675d57a-7a38-4cb2-87a1-c55a5d7923aa",
   "metadata": {},
   "source": [
    "Q1.What is the difference between Compiler and Interpreter\n"
   ]
  },
  {
   "cell_type": "markdown",
   "id": "2d7aed8b-f0df-4d8f-ba08-d304da691f22",
   "metadata": {},
   "source": [
    "#Compiler =>  \n",
    "            It is software that convert source code into byte code. It scan               the code only one time. Compiler compiled all source code at once.\n",
    "#Interpreter => \n",
    "               It is also a software that source code into byte code as well                  machine language. It scan the source code many time.                          Interpreter compiled the code line by line if any error found.                 It stopped the programe until error does not resolve"
   ]
  },
  {
   "cell_type": "markdown",
   "id": "c77ebd61-165c-4c6f-8bac-0b1479cb04d1",
   "metadata": {},
   "source": [
    "Q2.What is the difference between JDK, JRE, and JVM?"
   ]
  },
  {
   "cell_type": "markdown",
   "id": "e43201c1-0743-4447-8cb0-8f50ce8d8bee",
   "metadata": {},
   "source": [
    "#JDK => it is softaware, JVM,JRE are embeded inside it. It provide the tools and library to JRE to execute the program..."
   ]
  },
  {
   "cell_type": "markdown",
   "id": "ce2b0fe0-7366-4e49-b4f1-287ff0e73fb2",
   "metadata": {},
   "source": [
    "#JRE => it is provide the environment to the java code to execute the instruction."
   ]
  },
  {
   "cell_type": "markdown",
   "id": "7eb35309-32e9-43cf-b31e-41bc842a5e9d",
   "metadata": {},
   "source": [
    "#JVM => It execute the .class file of java source code using JIT(JUST IN TIME) compiler"
   ]
  },
  {
   "cell_type": "markdown",
   "id": "a67b57e2-b0e2-41ed-9875-89d2330d6def",
   "metadata": {},
   "source": [
    "Q4.What is JIT compiler?"
   ]
  },
  {
   "cell_type": "markdown",
   "id": "4f4120b3-ff3c-4c45-8839-3f9f362397f9",
   "metadata": {},
   "source": [
    "#JIT => It is use to execute the .class file of java code"
   ]
  },
  {
   "cell_type": "markdown",
   "id": "b617fffa-a35d-404f-870a-d2143ab31aae",
   "metadata": {},
   "source": [
    "Q5.What are the various access specifiers in Java?"
   ]
  },
  {
   "cell_type": "markdown",
   "id": "c20e31e8-2bb5-4321-876a-a175c8d0fb29",
   "metadata": {},
   "source": [
    "Various access specifiers are Public, Protected, private and default"
   ]
  },
  {
   "cell_type": "markdown",
   "id": "1e0e85d0-28bb-4a86-8865-3151eff8e054",
   "metadata": {},
   "source": [
    "#Public => Public modifier provide to accessibility of class/Method outside the package"
   ]
  },
  {
   "cell_type": "markdown",
   "id": "428b0a9d-8f8e-4818-8b29-39d0a4924b1a",
   "metadata": {},
   "source": [
    "#Default => It provide the accessibility of class/Method only inside the package"
   ]
  },
  {
   "cell_type": "markdown",
   "id": "b6b916d2-7968-49d4-93ea-2bb42f927a83",
   "metadata": {},
   "source": [
    "#Private => It does not  provide any accessibility of class/Method in any other class inside the package as well out side the package Means we can acces within the class or method"
   ]
  },
  {
   "cell_type": "markdown",
   "id": "ab1765bc-74ee-4f85-9824-a16c18d3c69d",
   "metadata": {},
   "source": [
    "#Protected => Id provides the accissibility of class/Method outside package by subclass only not as outside package "
   ]
  },
  {
   "cell_type": "markdown",
   "id": "69741c84-4e36-4af8-a5aa-3c8a5a25923c",
   "metadata": {},
   "source": [
    "Q6.What is a compiler in Java?"
   ]
  },
  {
   "cell_type": "markdown",
   "id": "443bd820-4f3c-4100-a87e-32813b65ae31",
   "metadata": {},
   "source": [
    "#Compile => It is a software whose task is to convert the source code into the byte code (Byte code is niether in HLL not MLLo or LLL "
   ]
  },
  {
   "cell_type": "markdown",
   "id": "4ef6ad23-e016-47ff-9d41-48e21f6cbcb9",
   "metadata": {},
   "source": [
    "Q7.Explain the types of variables in Java?"
   ]
  },
  {
   "cell_type": "markdown",
   "id": "17bf91b8-f4c0-4349-bb66-75efedadc0f9",
   "metadata": {},
   "source": [
    "#Local => Variable which are used with the method and we cannot use that vriable in other method of same class"
   ]
  },
  {
   "cell_type": "markdown",
   "id": "29ad4db4-0d2f-4117-81d2-06e2be5dd5cf",
   "metadata": {},
   "source": [
    "#Instance => It defines inside the the class but outhside of body. It is instance specific"
   ]
  },
  {
   "cell_type": "markdown",
   "id": "d2c27ffa-23e7-4930-8f48-767387b25c32",
   "metadata": {},
   "source": [
    "#Static => It can be shared in whole class. It cann't be define inside the method. Memory location for static variable only atonce "
   ]
  },
  {
   "cell_type": "markdown",
   "id": "cfebfd1d-843f-4468-9a47-1959c9b4b1d0",
   "metadata": {},
   "source": [
    "Q8.What are the Datatypes in Java?"
   ]
  },
  {
   "cell_type": "markdown",
   "id": "113df8c4-b06b-4a14-b0aa-a93c92c8fae6",
   "metadata": {},
   "source": [
    "#Long - size(8 byte)\n",
    "#Double - size(8 byte)\n",
    "#Int - size - 4byte\n",
    "#Float - size(4byte)\n",
    "#char- size(2byte)\n",
    "#short - size(2byte)\n",
    "#byte - size(1byte)\n",
    "#Boolean - size(1bit)\n",
    "\n",
    "\n",
    "\n"
   ]
  },
  {
   "cell_type": "markdown",
   "id": "b9166b34-0cbf-4ef6-b158-4da9b5755cb6",
   "metadata": {},
   "source": [
    "Q9.What are the identifiers in java?"
   ]
  },
  {
   "cell_type": "markdown",
   "id": "8d6888ee-13b5-42ce-aefa-25f010614de4",
   "metadata": {},
   "source": [
    "Identifiers => Which are use to identify the memory data is called Identifiers\n",
    "\n",
    "#Rule =>\n",
    "       * a to z , A to Z , _ and $ should be start character\n",
    "       * space , numeric number and reserve keyword is not allowed"
   ]
  },
  {
   "cell_type": "markdown",
   "id": "ffec56dd-da3e-4d83-a8e1-09783289ea32",
   "metadata": {},
   "source": [
    "Q10.Explain the architecture of JVM "
   ]
  },
  {
   "cell_type": "markdown",
   "id": "7d8b4e03-e45a-49c7-bd56-9d4585e48d93",
   "metadata": {},
   "source": [
    "After the complilation .class file executed for that  execution whatever library and tools are requier that provide by the JVM"
   ]
  },
  {
   "cell_type": "code",
   "execution_count": null,
   "id": "19ab0f56-c683-476f-b83d-7c2de74067dc",
   "metadata": {},
   "outputs": [],
   "source": []
  }
 ],
 "metadata": {
  "kernelspec": {
   "display_name": "Python 3 (ipykernel)",
   "language": "python",
   "name": "python3"
  },
  "language_info": {
   "codemirror_mode": {
    "name": "ipython",
    "version": 3
   },
   "file_extension": ".py",
   "mimetype": "text/x-python",
   "name": "python",
   "nbconvert_exporter": "python",
   "pygments_lexer": "ipython3",
   "version": "3.10.8"
  },
  "toc-showtags": true
 },
 "nbformat": 4,
 "nbformat_minor": 5
}
