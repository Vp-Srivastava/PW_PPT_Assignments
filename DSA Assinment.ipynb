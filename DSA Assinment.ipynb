{
 "cells": [
  {
   "cell_type": "code",
   "execution_count": 4,
   "id": "2fbdbb3b-7d0f-47c5-aeff-bb522b78bb56",
   "metadata": {},
   "outputs": [
    {
     "name": "stdin",
     "output_type": "stream",
     "text": [
      " loveleetcode\n"
     ]
    },
    {
     "data": {
      "text/plain": [
       "2"
      ]
     },
     "execution_count": 4,
     "metadata": {},
     "output_type": "execute_result"
    }
   ],
   "source": [
    "s = input()\n",
    "def fuc(s):\n",
    "    dic = {}\n",
    "    for i in s:\n",
    "        if i in dic:\n",
    "            dic[i] += 1\n",
    "        else:\n",
    "            dic[i] = 1\n",
    "        \n",
    "    for i in range(len(s)):\n",
    "        if dic[s[i]] == 1:\n",
    "            return i\n",
    "    return -1\n",
    "fuc(s)      "
   ]
  },
  {
   "cell_type": "code",
   "execution_count": null,
   "id": "52ffe311-5279-4467-9b4a-d0cbf3d81d16",
   "metadata": {},
   "outputs": [],
   "source": [
    "def moveZero(nums):\n",
    "    low = high = 0\n",
    "    while(high<len(nums)):\n",
    "        if nums[high] != 0:\n",
    "            nums[low] , nums[high] = nums[high],nums[low]\n",
    "            low+=1\n",
    "            high+=1\n",
    "nums = []\n",
    "n = int(input())\n",
    "for i in range(n):\n",
    "    x = int(input())\n",
    "    nums.append(x)\n",
    "moveZero(        "
   ]
  },
  {
   "cell_type": "code",
   "execution_count": null,
   "id": "a044b419-b80f-460b-87bf-c11f0faaa59b",
   "metadata": {},
   "outputs": [],
   "source": []
  }
 ],
 "metadata": {
  "kernelspec": {
   "display_name": "Python 3 (ipykernel)",
   "language": "python",
   "name": "python3"
  },
  "language_info": {
   "codemirror_mode": {
    "name": "ipython",
    "version": 3
   },
   "file_extension": ".py",
   "mimetype": "text/x-python",
   "name": "python",
   "nbconvert_exporter": "python",
   "pygments_lexer": "ipython3",
   "version": "3.10.8"
  }
 },
 "nbformat": 4,
 "nbformat_minor": 5
}
